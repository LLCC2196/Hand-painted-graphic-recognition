{
 "cells": [
  {
   "cell_type": "code",
   "execution_count": 1,
   "metadata": {
    "collapsed": true
   },
   "outputs": [],
   "source": [
    "#Created on: May 23, 2017\n",
    "#Author: chen\n",
    "#llcc2196@gmail.com\n",
    "import numpy as np\n",
    "import matplotlib\n",
    "matplotlib.use('TkAgg')\n",
    "from matplotlib import pyplot as plt\n",
    "import math\n",
    "import cv2\n",
    "%matplotlib inline"
   ]
  },
  {
   "cell_type": "code",
   "execution_count": 158,
   "metadata": {
    "collapsed": true
   },
   "outputs": [],
   "source": [
    "#sort the lines(horizon,vertical,left diagonal,right diagonal)\n",
    "def lines_sort(degree,tolerance_h = 10,tolerance_v = 10,\n",
    "        tolerance_l = 10,tolerance_r = 10):\n",
    "    if(((90 - tolerance_h) <= degree and degree <= 90) or\n",
    "       (-90 <= degree and degree <= (-90 + tolerance_h))):\n",
    "        linesort = 'vertical'\n",
    "        bias = (tolerance_v - abs(abs(degree) - 90))/tolerance_v\n",
    "    elif((0 - tolerance_h) <= degree and degree <= (0 + tolerance_h)): \n",
    "        linesort = 'horizon'\n",
    "        bias = (tolerance_h - abs(degree))/tolerance_h\n",
    "    elif((-45 - tolerance_h) <= degree and degree <= (-45 + tolerance_h)):\n",
    "        linesort = 'right diagonal'\n",
    "        bias = abs(abs(degree) - 45)\n",
    "    elif((45 - tolerance_h) <= degree and degree <= (45 + tolerance_h)):\n",
    "        linesort = 'left diagonal'\n",
    "        bias = (tolerance_l - abs(abs(degree) - 45))/tolerance_l\n",
    "    else: \n",
    "        linesort = 'incorrect'\n",
    "        bias = 'NAN'\n",
    "    return linesort,bias"
   ]
  },
  {
   "cell_type": "code",
   "execution_count": 3,
   "metadata": {
    "collapsed": true
   },
   "outputs": [],
   "source": [
    "#cutoff should equal to the width of line\n",
    "def lineContours(img,cutoff = 5):\n",
    "    ret, binary = cv2.threshold(img,127,255,0) \n",
    "    img2, contours, hierarchy = cv2.findContours(binary,cv2.RETR_TREE,cv2.CHAIN_APPROX_NONE) \n",
    "#If you pass cv2.CHAIN_APPROX_NONE, all the boundary points are stored.\n",
    "    for i in range(1,len(contours)):\n",
    "        linecontours = np.vstack(contours[i]).squeeze()\n",
    "        if len(linecontours) % 2 != 0:\n",
    "            linecontours = linecontours[:-1]\n",
    "        contour = np.vsplit(linecontours, 2) \n",
    "        if(i == 1):\n",
    "            con = contour[0][cutoff:-cutoff]\n",
    "        else:\n",
    "            con = np.vstack((contour[0][cutoff:-cutoff],con))\n",
    "    return con,len(contours)"
   ]
  },
  {
   "cell_type": "code",
   "execution_count": 4,
   "metadata": {
    "collapsed": true
   },
   "outputs": [],
   "source": [
    "def lineContinuity(contournumber):\n",
    "    return 1/(contournumber-1)"
   ]
  },
  {
   "cell_type": "code",
   "execution_count": 5,
   "metadata": {
    "collapsed": true
   },
   "outputs": [],
   "source": [
    "def lineSmooth(ddline,threshold = 60):\n",
    "    aveddline = np.array(ddline)\n",
    "    smooth = [elem for elem in aveddline if elem < threshold]\n",
    "    smooth = [elem for elem in aveddline if elem > -threshold]\n",
    "    return np.var(smooth)"
   ]
  },
  {
   "cell_type": "code",
   "execution_count": 6,
   "metadata": {
    "collapsed": true
   },
   "outputs": [],
   "source": [
    "#img should be the image only have one approximate line\n",
    "#tolerance_* is the degree bias(0~45) of the line compared to the correct line\n",
    "#_h-horizon _v-vertical _l-left diagonal r-right diagonal\n",
    "def lineDistinguish(img,tolerance_h = 10,tolerance_v = 10,\n",
    "       tolerance_l = 10,tolerance_r = 10):\n",
    "    cnt,connum = lineContours(img)\n",
    "\n",
    "    [vx,vy,x,y] = cv2.fitLine(cnt, cv2.DIST_HUBER,0,0.01,0.01)\n",
    "    line_radian = math.atan(vy/vx)\n",
    "    line_degree = line_radian / math.pi * 180\n",
    "    return (lines_sort(line_degree,tolerance_h,tolerance_v,\n",
    "            tolerance_l,tolerance_r))\n",
    "    '''\n",
    "    #show image with fitline\n",
    "    rows,cols = img.shape[:2]\n",
    "    lefty = int((-x*vy/vx) + y)\n",
    "    righty = int(((cols-x)*vy/vx)+y)\n",
    "    cv2.line(img,(cols-1,righty),(0,lefty),(0,255,0),2)\n",
    "    cv2.imshow('Image',img)\n",
    "    cv2.waitKey(0)\n",
    "    '''"
   ]
  },
  {
   "cell_type": "code",
   "execution_count": 7,
   "metadata": {
    "collapsed": true
   },
   "outputs": [],
   "source": [
    "def lineSize(contour,suitable = 0.65,x_axis = 1000,y_axis = 1000):\n",
    "    lineType,bias = lineDistinguish(img)\n",
    "    if lineType == 'vertical':\n",
    "        return len(contour)/(suitable*y_axis)\n",
    "    elif lineType == 'horizon':\n",
    "        return len(contour)/(suitable*x_axis)\n",
    "    else :\n",
    "        return len(contour)/(suitable*((x_axis**2+y_axis**2)**0.5))"
   ]
  },
  {
   "cell_type": "code",
   "execution_count": 8,
   "metadata": {
    "collapsed": true
   },
   "outputs": [],
   "source": [
    "def derivativeX(point1,point2):\n",
    "    dpointx = float(point2[0] - point1[0]) \n",
    "    return dpointx"
   ]
  },
  {
   "cell_type": "code",
   "execution_count": 9,
   "metadata": {
    "collapsed": true
   },
   "outputs": [],
   "source": [
    "def derivativeY(point1,point2):\n",
    "    dpointy = float(point2[1] - point1[1])\n",
    "    return dpointy"
   ]
  },
  {
   "cell_type": "code",
   "execution_count": 10,
   "metadata": {
    "collapsed": true
   },
   "outputs": [],
   "source": [
    "def derivative(point1,point2):\n",
    "    dpoint = float((point2[1] - point1[1]) / (point2[0] - point1[0])) \n",
    "    if math.isinf(dpoint) :\n",
    "        dpoint = 50\n",
    "    return dpoint"
   ]
  },
  {
   "cell_type": "code",
   "execution_count": 11,
   "metadata": {
    "collapsed": true
   },
   "outputs": [],
   "source": [
    "def lineDerivativeX(line,step=1,averstep=1):\n",
    "    dlinex = []\n",
    "    for i in range(0,len(line)-averstep,step):\n",
    "        dlinex.append(derivativeX(line[i],line[i + averstep]))\n",
    "    return dlinex"
   ]
  },
  {
   "cell_type": "code",
   "execution_count": 12,
   "metadata": {
    "collapsed": true
   },
   "outputs": [],
   "source": [
    "def lineDerivativeY(line,step=1,averstep=1):\n",
    "    dliney = []\n",
    "    for i in range(0,len(line)-averstep,step):\n",
    "        dliney.append(derivativeY(line[i],line[i + averstep]))\n",
    "    return dliney"
   ]
  },
  {
   "cell_type": "code",
   "execution_count": 13,
   "metadata": {
    "collapsed": true
   },
   "outputs": [],
   "source": [
    "def lineDerivative(line,step=1,averstep=1):\n",
    "    dline = []\n",
    "    for i in range(0,len(line)-averstep,step):\n",
    "        dline.append(derivative(line[i],line[i + averstep]))\n",
    "    return dline"
   ]
  },
  {
   "cell_type": "code",
   "execution_count": 14,
   "metadata": {
    "collapsed": true
   },
   "outputs": [],
   "source": [
    "def lineCurvatureX(dline,step=1,averstep=1):\n",
    "    ddlinex = []\n",
    "    for i in range(0,len(dline)-averstep,step):\n",
    "        ddlinex.append(dline[i+averstep] - dline[i])\n",
    "    return ddlinex"
   ]
  },
  {
   "cell_type": "code",
   "execution_count": 15,
   "metadata": {
    "collapsed": true
   },
   "outputs": [],
   "source": [
    "def lineCurvatureY(dline,step=1,averstep=1):\n",
    "    ddliney = []\n",
    "    for i in range(0,len(dline)-averstep,step):\n",
    "        ddliney.append(dline[i+averstep] - dline[i])\n",
    "    return ddliney"
   ]
  },
  {
   "cell_type": "code",
   "execution_count": 16,
   "metadata": {
    "collapsed": true
   },
   "outputs": [],
   "source": [
    "def lineCurvature(dline,step=1,averstep=1):\n",
    "    ddline = []\n",
    "    for i in range(0,len(dline)-averstep,step):\n",
    "        ddline.append(dline[i+averstep] - dline[i])\n",
    "    return ddline"
   ]
  },
  {
   "cell_type": "code",
   "execution_count": 17,
   "metadata": {
    "collapsed": true
   },
   "outputs": [],
   "source": [
    "def lineProperty(img,dstep=1,daverstep=1,ddstep=1,ddaverstep=1):\n",
    "    linesort,bias = lineDistinguish(img)\n",
    "    contour,connum = lineContours(img)\n",
    "    Size = lineSize(contour)\n",
    "    Continuity = lineContinuity(connum)\n",
    "    dline = lineDerivative(contour,dstep,daverstep)\n",
    "    ddline = lineCurvature(dline,ddstep,ddaverstep)\n",
    "    Smooth = lineSmooth(ddline)\n",
    "    return linesort,bias,Size,Continuity,Smooth"
   ]
  },
  {
   "cell_type": "code",
   "execution_count": 18,
   "metadata": {
    "collapsed": true
   },
   "outputs": [],
   "source": [
    "#plot the line properties(original image,line,derivative of line,curvature of line),x_axis,y_axis is image size\n",
    "def plotLineproperties(img,contour,dline,ddline,amplitude = 10,x_axis = 1000,y_axis = 1000):\n",
    "\n",
    "    plt.figure(figsize=(15,15))\n",
    "    plt.subplot(2,2,1),plt.title('original image')\n",
    "    plt.imshow(img)\n",
    "    \n",
    "    x = contour[:,0]\n",
    "    y = contour[:,1]\n",
    "    plt.figure(figsize=(15,15))\n",
    "    plt.subplot(2,2,2),plt.title('contour points')\n",
    "    plt.plot(x,y),plt.axis([0, x_axis, 0, y_axis])\n",
    "\n",
    "    td = np.arange(0, len(dline))\n",
    "    plt.figure(figsize=(15,15))\n",
    "    plt.subplot(2,2,3),plt.plot(td,dline),plt.title('contour derivative'),plt.axis([0, len(dline), -amplitude, amplitude])\n",
    "\n",
    "    tdd = np.arange(0, len(ddline))\n",
    "    plt.figure(figsize=(15,15))\n",
    "    plt.subplot(2,2,4),plt.plot(tdd,ddline),plt.title('contour curvature'),plt.axis([0, len(ddline), -amplitude, amplitude])\n",
    "    plt.show()"
   ]
  },
  {
   "cell_type": "code",
   "execution_count": 73,
   "metadata": {},
   "outputs": [],
   "source": [
    "import os  \n",
    "import csv\n",
    "import sys\n",
    "\n",
    "def WriteCSVFileName(file_dir,csvfilePATH):\n",
    "    with open(csvfilePATH,'w',encoding='utf8',newline='') as f:                 #w is erase, a+ is append\n",
    "        writer = csv.writer(f)\n",
    "        writer.writerow([\"ip\", \"usrname\", \"type\", \"date\", \"num\",\"fullname\"])\n",
    "        for root, dirs, files in os.walk(file_dir):  \n",
    "            for file in files:  \n",
    "                splitname = os.path.splitext(file)\n",
    "                if splitname[1] == '.jpeg': \n",
    "                    name = splitname[0].split(\"_\")\n",
    "                    name.append(file)\n",
    "                    writer.writerow(name)                    \n",
    "    f.close()\n",
    "#def ReadCSVFileName(csvfilePATH)"
   ]
  },
  {
   "cell_type": "code",
   "execution_count": 173,
   "metadata": {
    "scrolled": true
   },
   "outputs": [],
   "source": [
    "WriteCSVFileName('./image','./image/image.csv')"
   ]
  },
  {
   "cell_type": "code",
   "execution_count": 174,
   "metadata": {
    "scrolled": true
   },
   "outputs": [
    {
     "data": {
      "text/html": [
       "<div>\n",
       "<style>\n",
       "    .dataframe thead tr:only-child th {\n",
       "        text-align: right;\n",
       "    }\n",
       "\n",
       "    .dataframe thead th {\n",
       "        text-align: left;\n",
       "    }\n",
       "\n",
       "    .dataframe tbody tr th {\n",
       "        vertical-align: top;\n",
       "    }\n",
       "</style>\n",
       "<table border=\"1\" class=\"dataframe\">\n",
       "  <thead>\n",
       "    <tr style=\"text-align: right;\">\n",
       "      <th></th>\n",
       "      <th>ip</th>\n",
       "      <th>usrname</th>\n",
       "      <th>type</th>\n",
       "      <th>date</th>\n",
       "      <th>num</th>\n",
       "      <th>fullname</th>\n",
       "    </tr>\n",
       "  </thead>\n",
       "  <tbody>\n",
       "    <tr>\n",
       "      <th>0</th>\n",
       "      <td>32.212.54.136</td>\n",
       "      <td>33</td>\n",
       "      <td>Line</td>\n",
       "      <td>2017-04-19-09-08-07</td>\n",
       "      <td>9356</td>\n",
       "      <td>32.212.54.136_33_Line_2017-04-19-09-08-07_9356...</td>\n",
       "    </tr>\n",
       "    <tr>\n",
       "      <th>1</th>\n",
       "      <td>32.212.54.136</td>\n",
       "      <td>33</td>\n",
       "      <td>Line</td>\n",
       "      <td>2017-04-19-09-08-07</td>\n",
       "      <td>4968</td>\n",
       "      <td>32.212.54.136_33_Line_2017-04-19-09-08-07_4968...</td>\n",
       "    </tr>\n",
       "    <tr>\n",
       "      <th>2</th>\n",
       "      <td>32.212.54.136</td>\n",
       "      <td>qwer</td>\n",
       "      <td>Line</td>\n",
       "      <td>2017-05-19-09-18-36</td>\n",
       "      <td>6786</td>\n",
       "      <td>32.212.54.136_qwer_Line_2017-05-19-09-18-36_67...</td>\n",
       "    </tr>\n",
       "    <tr>\n",
       "      <th>3</th>\n",
       "      <td>32.212.54.136</td>\n",
       "      <td>33</td>\n",
       "      <td>Bee</td>\n",
       "      <td>2017-05-23-09-23-54</td>\n",
       "      <td>4968</td>\n",
       "      <td>32.212.54.136_33_Bee_2017-05-23-09-23-54_4968....</td>\n",
       "    </tr>\n",
       "    <tr>\n",
       "      <th>4</th>\n",
       "      <td>32.212.54.136</td>\n",
       "      <td>anonymous</td>\n",
       "      <td>Line</td>\n",
       "      <td>2017-04-19-09-18-19</td>\n",
       "      <td>2545</td>\n",
       "      <td>32.212.54.136_anonymous_Line_2017-04-19-09-18-...</td>\n",
       "    </tr>\n",
       "  </tbody>\n",
       "</table>\n",
       "</div>"
      ],
      "text/plain": [
       "              ip    usrname  type                 date   num  \\\n",
       "0  32.212.54.136         33  Line  2017-04-19-09-08-07  9356   \n",
       "1  32.212.54.136         33  Line  2017-04-19-09-08-07  4968   \n",
       "2  32.212.54.136       qwer  Line  2017-05-19-09-18-36  6786   \n",
       "3  32.212.54.136         33   Bee  2017-05-23-09-23-54  4968   \n",
       "4  32.212.54.136  anonymous  Line  2017-04-19-09-18-19  2545   \n",
       "\n",
       "                                            fullname  \n",
       "0  32.212.54.136_33_Line_2017-04-19-09-08-07_9356...  \n",
       "1  32.212.54.136_33_Line_2017-04-19-09-08-07_4968...  \n",
       "2  32.212.54.136_qwer_Line_2017-05-19-09-18-36_67...  \n",
       "3  32.212.54.136_33_Bee_2017-05-23-09-23-54_4968....  \n",
       "4  32.212.54.136_anonymous_Line_2017-04-19-09-18-...  "
      ]
     },
     "execution_count": 174,
     "metadata": {},
     "output_type": "execute_result"
    }
   ],
   "source": [
    "import pandas as pd\n",
    "pd1 = pd.read_csv(\"./image/image.csv\")\n",
    "pd1"
   ]
  },
  {
   "cell_type": "code",
   "execution_count": 175,
   "metadata": {},
   "outputs": [
    {
     "data": {
      "text/html": [
       "<div>\n",
       "<style>\n",
       "    .dataframe thead tr:only-child th {\n",
       "        text-align: right;\n",
       "    }\n",
       "\n",
       "    .dataframe thead th {\n",
       "        text-align: left;\n",
       "    }\n",
       "\n",
       "    .dataframe tbody tr th {\n",
       "        vertical-align: top;\n",
       "    }\n",
       "</style>\n",
       "<table border=\"1\" class=\"dataframe\">\n",
       "  <thead>\n",
       "    <tr style=\"text-align: right;\">\n",
       "      <th></th>\n",
       "      <th>ip</th>\n",
       "      <th>usrname</th>\n",
       "      <th>type</th>\n",
       "      <th>date</th>\n",
       "      <th>num</th>\n",
       "      <th>fullname</th>\n",
       "    </tr>\n",
       "  </thead>\n",
       "  <tbody>\n",
       "    <tr>\n",
       "      <th>0</th>\n",
       "      <td>32.212.54.136</td>\n",
       "      <td>33</td>\n",
       "      <td>Line</td>\n",
       "      <td>2017-04-19-09-08-07</td>\n",
       "      <td>9356</td>\n",
       "      <td>32.212.54.136_33_Line_2017-04-19-09-08-07_9356...</td>\n",
       "    </tr>\n",
       "    <tr>\n",
       "      <th>1</th>\n",
       "      <td>32.212.54.136</td>\n",
       "      <td>33</td>\n",
       "      <td>Line</td>\n",
       "      <td>2017-04-19-09-08-07</td>\n",
       "      <td>4968</td>\n",
       "      <td>32.212.54.136_33_Line_2017-04-19-09-08-07_4968...</td>\n",
       "    </tr>\n",
       "    <tr>\n",
       "      <th>2</th>\n",
       "      <td>32.212.54.136</td>\n",
       "      <td>qwer</td>\n",
       "      <td>Line</td>\n",
       "      <td>2017-05-19-09-18-36</td>\n",
       "      <td>6786</td>\n",
       "      <td>32.212.54.136_qwer_Line_2017-05-19-09-18-36_67...</td>\n",
       "    </tr>\n",
       "    <tr>\n",
       "      <th>4</th>\n",
       "      <td>32.212.54.136</td>\n",
       "      <td>anonymous</td>\n",
       "      <td>Line</td>\n",
       "      <td>2017-04-19-09-18-19</td>\n",
       "      <td>2545</td>\n",
       "      <td>32.212.54.136_anonymous_Line_2017-04-19-09-18-...</td>\n",
       "    </tr>\n",
       "  </tbody>\n",
       "</table>\n",
       "</div>"
      ],
      "text/plain": [
       "              ip    usrname  type                 date   num  \\\n",
       "0  32.212.54.136         33  Line  2017-04-19-09-08-07  9356   \n",
       "1  32.212.54.136         33  Line  2017-04-19-09-08-07  4968   \n",
       "2  32.212.54.136       qwer  Line  2017-05-19-09-18-36  6786   \n",
       "4  32.212.54.136  anonymous  Line  2017-04-19-09-18-19  2545   \n",
       "\n",
       "                                            fullname  \n",
       "0  32.212.54.136_33_Line_2017-04-19-09-08-07_9356...  \n",
       "1  32.212.54.136_33_Line_2017-04-19-09-08-07_4968...  \n",
       "2  32.212.54.136_qwer_Line_2017-05-19-09-18-36_67...  \n",
       "4  32.212.54.136_anonymous_Line_2017-04-19-09-18-...  "
      ]
     },
     "execution_count": 175,
     "metadata": {},
     "output_type": "execute_result"
    }
   ],
   "source": [
    "linepd = pd1[pd1[\"type\"]=='Line'] \n",
    "linepd"
   ]
  },
  {
   "cell_type": "code",
   "execution_count": 176,
   "metadata": {},
   "outputs": [
    {
     "name": "stderr",
     "output_type": "stream",
     "text": [
      "/home/llcc2196/anaconda3/envs/py3-cv/lib/python3.5/site-packages/ipykernel_launcher.py:1: FutureWarning: by argument to sort_index is deprecated, pls use .sort_values(by=...)\n",
      "  \"\"\"Entry point for launching an IPython kernel.\n"
     ]
    },
    {
     "data": {
      "text/html": [
       "<div>\n",
       "<style>\n",
       "    .dataframe thead tr:only-child th {\n",
       "        text-align: right;\n",
       "    }\n",
       "\n",
       "    .dataframe thead th {\n",
       "        text-align: left;\n",
       "    }\n",
       "\n",
       "    .dataframe tbody tr th {\n",
       "        vertical-align: top;\n",
       "    }\n",
       "</style>\n",
       "<table border=\"1\" class=\"dataframe\">\n",
       "  <thead>\n",
       "    <tr style=\"text-align: right;\">\n",
       "      <th></th>\n",
       "      <th>ip</th>\n",
       "      <th>usrname</th>\n",
       "      <th>type</th>\n",
       "      <th>date</th>\n",
       "      <th>num</th>\n",
       "      <th>fullname</th>\n",
       "    </tr>\n",
       "  </thead>\n",
       "  <tbody>\n",
       "    <tr>\n",
       "      <th>1</th>\n",
       "      <td>32.212.54.136</td>\n",
       "      <td>33</td>\n",
       "      <td>Line</td>\n",
       "      <td>2017-04-19-09-08-07</td>\n",
       "      <td>4968</td>\n",
       "      <td>32.212.54.136_33_Line_2017-04-19-09-08-07_4968...</td>\n",
       "    </tr>\n",
       "    <tr>\n",
       "      <th>0</th>\n",
       "      <td>32.212.54.136</td>\n",
       "      <td>33</td>\n",
       "      <td>Line</td>\n",
       "      <td>2017-04-19-09-08-07</td>\n",
       "      <td>9356</td>\n",
       "      <td>32.212.54.136_33_Line_2017-04-19-09-08-07_9356...</td>\n",
       "    </tr>\n",
       "    <tr>\n",
       "      <th>4</th>\n",
       "      <td>32.212.54.136</td>\n",
       "      <td>anonymous</td>\n",
       "      <td>Line</td>\n",
       "      <td>2017-04-19-09-18-19</td>\n",
       "      <td>2545</td>\n",
       "      <td>32.212.54.136_anonymous_Line_2017-04-19-09-18-...</td>\n",
       "    </tr>\n",
       "    <tr>\n",
       "      <th>2</th>\n",
       "      <td>32.212.54.136</td>\n",
       "      <td>qwer</td>\n",
       "      <td>Line</td>\n",
       "      <td>2017-05-19-09-18-36</td>\n",
       "      <td>6786</td>\n",
       "      <td>32.212.54.136_qwer_Line_2017-05-19-09-18-36_67...</td>\n",
       "    </tr>\n",
       "  </tbody>\n",
       "</table>\n",
       "</div>"
      ],
      "text/plain": [
       "              ip    usrname  type                 date   num  \\\n",
       "1  32.212.54.136         33  Line  2017-04-19-09-08-07  4968   \n",
       "0  32.212.54.136         33  Line  2017-04-19-09-08-07  9356   \n",
       "4  32.212.54.136  anonymous  Line  2017-04-19-09-18-19  2545   \n",
       "2  32.212.54.136       qwer  Line  2017-05-19-09-18-36  6786   \n",
       "\n",
       "                                            fullname  \n",
       "1  32.212.54.136_33_Line_2017-04-19-09-08-07_4968...  \n",
       "0  32.212.54.136_33_Line_2017-04-19-09-08-07_9356...  \n",
       "4  32.212.54.136_anonymous_Line_2017-04-19-09-18-...  \n",
       "2  32.212.54.136_qwer_Line_2017-05-19-09-18-36_67...  "
      ]
     },
     "execution_count": 176,
     "metadata": {},
     "output_type": "execute_result"
    }
   ],
   "source": [
    "linepd = linepd.sort_index(by=['date','num'],ascending=True)\n",
    "linepd"
   ]
  },
  {
   "cell_type": "code",
   "execution_count": 180,
   "metadata": {
    "scrolled": true
   },
   "outputs": [
    {
     "data": {
      "text/html": [
       "<div>\n",
       "<style>\n",
       "    .dataframe thead tr:only-child th {\n",
       "        text-align: right;\n",
       "    }\n",
       "\n",
       "    .dataframe thead th {\n",
       "        text-align: left;\n",
       "    }\n",
       "\n",
       "    .dataframe tbody tr th {\n",
       "        vertical-align: top;\n",
       "    }\n",
       "</style>\n",
       "<table border=\"1\" class=\"dataframe\">\n",
       "  <thead>\n",
       "    <tr style=\"text-align: right;\">\n",
       "      <th></th>\n",
       "      <th>index</th>\n",
       "      <th>ip</th>\n",
       "      <th>usrname</th>\n",
       "      <th>type</th>\n",
       "      <th>date</th>\n",
       "      <th>num</th>\n",
       "      <th>fullname</th>\n",
       "    </tr>\n",
       "  </thead>\n",
       "  <tbody>\n",
       "    <tr>\n",
       "      <th>0</th>\n",
       "      <td>1</td>\n",
       "      <td>32.212.54.136</td>\n",
       "      <td>33</td>\n",
       "      <td>Line</td>\n",
       "      <td>2017-04-19-09-08-07</td>\n",
       "      <td>4968</td>\n",
       "      <td>32.212.54.136_33_Line_2017-04-19-09-08-07_4968...</td>\n",
       "    </tr>\n",
       "    <tr>\n",
       "      <th>1</th>\n",
       "      <td>0</td>\n",
       "      <td>32.212.54.136</td>\n",
       "      <td>33</td>\n",
       "      <td>Line</td>\n",
       "      <td>2017-04-19-09-08-07</td>\n",
       "      <td>9356</td>\n",
       "      <td>32.212.54.136_33_Line_2017-04-19-09-08-07_9356...</td>\n",
       "    </tr>\n",
       "    <tr>\n",
       "      <th>2</th>\n",
       "      <td>4</td>\n",
       "      <td>32.212.54.136</td>\n",
       "      <td>anonymous</td>\n",
       "      <td>Line</td>\n",
       "      <td>2017-04-19-09-18-19</td>\n",
       "      <td>2545</td>\n",
       "      <td>32.212.54.136_anonymous_Line_2017-04-19-09-18-...</td>\n",
       "    </tr>\n",
       "    <tr>\n",
       "      <th>3</th>\n",
       "      <td>2</td>\n",
       "      <td>32.212.54.136</td>\n",
       "      <td>qwer</td>\n",
       "      <td>Line</td>\n",
       "      <td>2017-05-19-09-18-36</td>\n",
       "      <td>6786</td>\n",
       "      <td>32.212.54.136_qwer_Line_2017-05-19-09-18-36_67...</td>\n",
       "    </tr>\n",
       "  </tbody>\n",
       "</table>\n",
       "</div>"
      ],
      "text/plain": [
       "   index             ip    usrname  type                 date   num  \\\n",
       "0      1  32.212.54.136         33  Line  2017-04-19-09-08-07  4968   \n",
       "1      0  32.212.54.136         33  Line  2017-04-19-09-08-07  9356   \n",
       "2      4  32.212.54.136  anonymous  Line  2017-04-19-09-18-19  2545   \n",
       "3      2  32.212.54.136       qwer  Line  2017-05-19-09-18-36  6786   \n",
       "\n",
       "                                            fullname  \n",
       "0  32.212.54.136_33_Line_2017-04-19-09-08-07_4968...  \n",
       "1  32.212.54.136_33_Line_2017-04-19-09-08-07_9356...  \n",
       "2  32.212.54.136_anonymous_Line_2017-04-19-09-18-...  \n",
       "3  32.212.54.136_qwer_Line_2017-05-19-09-18-36_67...  "
      ]
     },
     "execution_count": 180,
     "metadata": {},
     "output_type": "execute_result"
    }
   ],
   "source": [
    "linepd = linepd.reset_index()"
   ]
  },
  {
   "cell_type": "code",
   "execution_count": 186,
   "metadata": {
    "scrolled": true
   },
   "outputs": [
    {
     "data": {
      "text/plain": [
       "1    32.212.54.136_33_Line_2017-04-19-09-08-07_4968...\n",
       "0    32.212.54.136_33_Line_2017-04-19-09-08-07_9356...\n",
       "4    32.212.54.136_anonymous_Line_2017-04-19-09-18-...\n",
       "2    32.212.54.136_qwer_Line_2017-05-19-09-18-36_67...\n",
       "Name: fullname, dtype: object"
      ]
     },
     "execution_count": 186,
     "metadata": {},
     "output_type": "execute_result"
    }
   ],
   "source": [
    "linefullname = linepd['fullname']\n",
    "linefullname"
   ]
  },
  {
   "cell_type": "code",
   "execution_count": 178,
   "metadata": {},
   "outputs": [
    {
     "data": {
      "text/plain": [
       "['32.212.54.136_33_Line_2017-04-19-09-08-07_4968 .jpeg',\n",
       " '32.212.54.136_33_Line_2017-04-19-09-08-07_9356.jpeg',\n",
       " '32.212.54.136_anonymous_Line_2017-04-19-09-18-19_2545.jpeg',\n",
       " '32.212.54.136_qwer_Line_2017-05-19-09-18-36_6786.jpeg']"
      ]
     },
     "execution_count": 178,
     "metadata": {},
     "output_type": "execute_result"
    }
   ],
   "source": [
    "img = []\n",
    "for line in linefullname: \n",
    "    img.append(line)\n",
    "img"
   ]
  },
  {
   "cell_type": "code",
   "execution_count": 179,
   "metadata": {},
   "outputs": [
    {
     "name": "stderr",
     "output_type": "stream",
     "text": [
      "/home/llcc2196/anaconda3/envs/py3-cv/lib/python3.5/site-packages/ipykernel_launcher.py:2: RuntimeWarning: divide by zero encountered in int_scalars\n",
      "  \n"
     ]
    },
    {
     "name": "stdout",
     "output_type": "stream",
     "text": [
      "name: 32.212.54.136_33_Line_2017-04-19-09-08-07_4968 .jpeg\n",
      "Type: vertical\n",
      "degree accuracy: 0.7400630576066775\n",
      "line size:1.172\n",
      "continuity:0.500\n",
      "smooth:41.661\n",
      "name: 32.212.54.136_33_Line_2017-04-19-09-08-07_9356.jpeg\n",
      "Type: incorrect\n",
      "degree accuracy: NAN\n",
      "line size:0.980\n",
      "continuity:1.000\n",
      "smooth:0.070\n",
      "name: 32.212.54.136_anonymous_Line_2017-04-19-09-18-19_2545.jpeg\n",
      "Type: left diagonal\n",
      "degree accuracy: 0.9553625559287042\n",
      "line size:1.746\n",
      "continuity:1.000\n",
      "smooth:33.213\n",
      "name: 32.212.54.136_qwer_Line_2017-05-19-09-18-36_6786.jpeg\n",
      "Type: left diagonal\n",
      "degree accuracy: 0.7968409912860125\n",
      "line size:0.690\n",
      "continuity:0.500\n",
      "smooth:0.198\n"
     ]
    }
   ],
   "source": [
    "for line in linefullname: \n",
    "    img = cv2.imread('./image/'+line,0)\n",
    "    imgori = cv2.imread('./image/'+line)\n",
    "    linesort,bias,Size,Continuity,Smooth = lineProperty(img,1,10)\n",
    "    print('name:',line)\n",
    "    print('Type:',linesort)\n",
    "    print('degree accuracy:',bias)\n",
    "    print(\"line size:%.3f\"%Size)\n",
    "    print(\"continuity:%.3f\"%Continuity)\n",
    "    print(\"smooth:%.3f\"%Smooth)\n",
    "\n",
    "#plotLineproperties(imgori,contour,dline,ddline,60)"
   ]
  },
  {
   "cell_type": "code",
   "execution_count": null,
   "metadata": {
    "collapsed": true
   },
   "outputs": [],
   "source": []
  }
 ],
 "metadata": {
  "kernelspec": {
   "display_name": "Python 3",
   "language": "python",
   "name": "python3"
  },
  "language_info": {
   "codemirror_mode": {
    "name": "ipython",
    "version": 3
   },
   "file_extension": ".py",
   "mimetype": "text/x-python",
   "name": "python",
   "nbconvert_exporter": "python",
   "pygments_lexer": "ipython3",
   "version": "3.5.2"
  },
  "widgets": {
   "state": {},
   "version": "1.1.2"
  }
 },
 "nbformat": 4,
 "nbformat_minor": 2
}
