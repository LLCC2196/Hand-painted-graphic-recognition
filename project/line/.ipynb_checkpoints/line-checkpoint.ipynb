{
 "cells": [
  {
   "cell_type": "code",
   "execution_count": 1,
   "metadata": {
    "collapsed": true
   },
   "outputs": [],
   "source": [
    "#Created on: May 23, 2017\n",
    "#Author: chen\n",
    "#llcc2196@gmail.com\n",
    "import numpy as np\n",
    "import matplotlib\n",
    "from matplotlib import pyplot as plt\n",
    "#matplotlib.use('TkAgg') #FOR .PY\n",
    "import pandas as pd\n",
    "import math\n",
    "import cv2\n",
    "import os  \n",
    "import csv\n",
    "import sys\n",
    "import getopt\n",
    "%matplotlib inline"
   ]
  },
  {
   "cell_type": "code",
   "execution_count": 2,
   "metadata": {
    "collapsed": true
   },
   "outputs": [],
   "source": [
    "#sort the lines(horizon,vertical,left diagonal,right diagonal)\n",
    "def lines_sort(degree,tolerance_h = 10,tolerance_v = 10,\n",
    "        tolerance_l = 10,tolerance_r = 10):\n",
    "    if(((90 - tolerance_h) <= degree and degree <= 90) or\n",
    "       (-90 <= degree and degree <= (-90 + tolerance_h))):\n",
    "        linesort = 'vertical'\n",
    "        bias = (tolerance_v - abs(abs(degree) - 90))/tolerance_v\n",
    "    elif((0 - tolerance_h) <= degree and degree <= (0 + tolerance_h)): \n",
    "        linesort = 'horizon'\n",
    "        bias = (tolerance_h - abs(degree))/tolerance_h\n",
    "    elif((-45 - tolerance_h) <= degree and degree <= (-45 + tolerance_h)):\n",
    "        linesort = 'right diagonal'\n",
    "        bias = abs(abs(degree) - 45)\n",
    "    elif((45 - tolerance_h) <= degree and degree <= (45 + tolerance_h)):\n",
    "        linesort = 'left diagonal'\n",
    "        bias = (tolerance_l - abs(abs(degree) - 45))/tolerance_l\n",
    "    else: \n",
    "        linesort = 'incorrect'\n",
    "        bias = 0\n",
    "    return linesort,bias"
   ]
  },
  {
   "cell_type": "code",
   "execution_count": 3,
   "metadata": {
    "collapsed": true
   },
   "outputs": [],
   "source": [
    "#cutoff should equal to the width of line\n",
    "def lineContours(img,cutoff = 5):\n",
    "    ret, binary = cv2.threshold(img,127,255,0) \n",
    "    img2, contours, hierarchy = cv2.findContours(binary,cv2.RETR_TREE,cv2.CHAIN_APPROX_NONE) \n",
    "#If you pass cv2.CHAIN_APPROX_NONE, all the boundary points are stored.\n",
    "    for i in range(1,len(contours)):\n",
    "        linecontours = np.vstack(contours[i]).squeeze()\n",
    "        if len(linecontours) % 2 != 0:\n",
    "            linecontours = linecontours[:-1]\n",
    "        contour = np.vsplit(linecontours, 2) \n",
    "        if(i == 1):\n",
    "            con = contour[0][cutoff:-cutoff]\n",
    "        else:\n",
    "            con = np.vstack((contour[0][cutoff:-cutoff],con))\n",
    "    return con,len(contours)"
   ]
  },
  {
   "cell_type": "code",
   "execution_count": 4,
   "metadata": {
    "collapsed": true
   },
   "outputs": [],
   "source": [
    "def lineContinuity(contournumber):\n",
    "    return 1/(contournumber-1)"
   ]
  },
  {
   "cell_type": "code",
   "execution_count": 5,
   "metadata": {
    "collapsed": true
   },
   "outputs": [],
   "source": [
    "def lineSmooth(ddline,threshold = 60):\n",
    "    aveddline = np.array(ddline)\n",
    "    smooth = [elem for elem in aveddline if elem < threshold]\n",
    "    smooth = [elem for elem in aveddline if elem > -threshold]\n",
    "    return np.var(smooth)"
   ]
  },
  {
   "cell_type": "code",
   "execution_count": 6,
   "metadata": {
    "collapsed": true
   },
   "outputs": [],
   "source": [
    "#img should be the image only have one approximate line\n",
    "#tolerance_* is the degree bias(0~45) of the line compared to the correct line\n",
    "#_h-horizon _v-vertical _l-left diagonal r-right diagonal\n",
    "def lineDistinguish(img,tolerance_h = 10,tolerance_v = 10,\n",
    "       tolerance_l = 10,tolerance_r = 10):\n",
    "    cnt,connum = lineContours(img)\n",
    "\n",
    "    [vx,vy,x,y] = cv2.fitLine(cnt, cv2.DIST_HUBER,0,0.01,0.01)\n",
    "    line_radian = math.atan(vy/vx)\n",
    "    line_degree = line_radian / math.pi * 180\n",
    "    return (lines_sort(line_degree,tolerance_h,tolerance_v,\n",
    "            tolerance_l,tolerance_r))\n",
    "    '''\n",
    "    #show image with fitline\n",
    "    rows,cols = img.shape[:2]\n",
    "    lefty = int((-x*vy/vx) + y)\n",
    "    righty = int(((cols-x)*vy/vx)+y)\n",
    "    cv2.line(img,(cols-1,righty),(0,lefty),(0,255,0),2)\n",
    "    cv2.imshow('Image',img)\n",
    "    cv2.waitKey(0)\n",
    "    '''"
   ]
  },
  {
   "cell_type": "code",
   "execution_count": 7,
   "metadata": {
    "collapsed": true
   },
   "outputs": [],
   "source": [
    "def lineSize(lineType,contour,suitable = 0.65,x_axis = 1000,y_axis = 1000):\n",
    "    if lineType == 'vertical':\n",
    "        return len(contour)/(suitable*y_axis)\n",
    "    elif lineType == 'horizon':\n",
    "        return len(contour)/(suitable*x_axis)\n",
    "    else :\n",
    "        return len(contour)/(suitable*((x_axis**2+y_axis**2)**0.5))"
   ]
  },
  {
   "cell_type": "code",
   "execution_count": 8,
   "metadata": {
    "collapsed": true
   },
   "outputs": [],
   "source": [
    "def derivativeX(point1,point2):\n",
    "    dpointx = float(point2[0] - point1[0]) \n",
    "    return dpointx"
   ]
  },
  {
   "cell_type": "code",
   "execution_count": 9,
   "metadata": {
    "collapsed": true
   },
   "outputs": [],
   "source": [
    "def derivativeY(point1,point2):\n",
    "    dpointy = float(point2[1] - point1[1])\n",
    "    return dpointy"
   ]
  },
  {
   "cell_type": "code",
   "execution_count": 10,
   "metadata": {
    "collapsed": true
   },
   "outputs": [],
   "source": [
    "def derivative(point1,point2):\n",
    "    dpoint = float((point2[1] - point1[1]) / (point2[0] - point1[0])) \n",
    "    if math.isinf(dpoint) :\n",
    "        dpoint = 50\n",
    "    return dpoint"
   ]
  },
  {
   "cell_type": "code",
   "execution_count": 11,
   "metadata": {
    "collapsed": true
   },
   "outputs": [],
   "source": [
    "def lineDerivativeX(line,step=1,averstep=1):\n",
    "    dlinex = []\n",
    "    for i in range(0,len(line)-averstep,step):\n",
    "        dlinex.append(derivativeX(line[i],line[i + averstep]))\n",
    "    return dlinex"
   ]
  },
  {
   "cell_type": "code",
   "execution_count": 12,
   "metadata": {
    "collapsed": true
   },
   "outputs": [],
   "source": [
    "def lineDerivativeY(line,step=1,averstep=1):\n",
    "    dliney = []\n",
    "    for i in range(0,len(line)-averstep,step):\n",
    "        dliney.append(derivativeY(line[i],line[i + averstep]))\n",
    "    return dliney"
   ]
  },
  {
   "cell_type": "code",
   "execution_count": 13,
   "metadata": {
    "collapsed": true
   },
   "outputs": [],
   "source": [
    "def lineDerivative(line,step=1,averstep=1):\n",
    "    dline = []\n",
    "    for i in range(0,len(line)-averstep,step):\n",
    "        dline.append(derivative(line[i],line[i + averstep]))\n",
    "    return dline"
   ]
  },
  {
   "cell_type": "code",
   "execution_count": 14,
   "metadata": {
    "collapsed": true
   },
   "outputs": [],
   "source": [
    "def lineCurvatureX(dline,step=1,averstep=1):\n",
    "    ddlinex = []\n",
    "    for i in range(0,len(dline)-averstep,step):\n",
    "        ddlinex.append(dline[i+averstep] - dline[i])\n",
    "    return ddlinex"
   ]
  },
  {
   "cell_type": "code",
   "execution_count": 15,
   "metadata": {
    "collapsed": true
   },
   "outputs": [],
   "source": [
    "def lineCurvatureY(dline,step=1,averstep=1):\n",
    "    ddliney = []\n",
    "    for i in range(0,len(dline)-averstep,step):\n",
    "        ddliney.append(dline[i+averstep] - dline[i])\n",
    "    return ddliney"
   ]
  },
  {
   "cell_type": "code",
   "execution_count": 16,
   "metadata": {
    "collapsed": true
   },
   "outputs": [],
   "source": [
    "def lineCurvature(dline,step=1,averstep=1):\n",
    "    ddline = []\n",
    "    for i in range(0,len(dline)-averstep,step):\n",
    "        ddline.append(dline[i+averstep] - dline[i])\n",
    "    return ddline"
   ]
  },
  {
   "cell_type": "code",
   "execution_count": 17,
   "metadata": {
    "collapsed": true
   },
   "outputs": [],
   "source": [
    "def lineProperty(img,dstep=1,daverstep=1,ddstep=1,ddaverstep=1):\n",
    "    linesort,bias = lineDistinguish(img)\n",
    "    contour,connum = lineContours(img)\n",
    "    Size = lineSize(linesort,contour)\n",
    "    Continuity = lineContinuity(connum)\n",
    "    dline = lineDerivative(contour,dstep,daverstep)\n",
    "    ddline = lineCurvature(dline,ddstep,ddaverstep)\n",
    "    Smooth = lineSmooth(ddline)\n",
    "    return linesort,bias,Size,Continuity,Smooth"
   ]
  },
  {
   "cell_type": "code",
   "execution_count": 18,
   "metadata": {
    "collapsed": true
   },
   "outputs": [],
   "source": [
    "#plot the line properties(original image,line,derivative of line,curvature of line),x_axis,y_axis is image size\n",
    "def plotLineproperties(img,contour,dline,ddline,amplitude = 10,x_axis = 1000,y_axis = 1000):\n",
    "\n",
    "    plt.figure(figsize=(15,15))\n",
    "    plt.subplot(2,2,1),plt.title('original image')\n",
    "    plt.imshow(img)\n",
    "    \n",
    "    x = contour[:,0]\n",
    "    y = contour[:,1]\n",
    "    plt.figure(figsize=(15,15))\n",
    "    plt.subplot(2,2,2),plt.title('contour points')\n",
    "    plt.plot(x,y),plt.axis([0, x_axis, 0, y_axis])\n",
    "\n",
    "    td = np.arange(0, len(dline))\n",
    "    plt.figure(figsize=(15,15))\n",
    "    plt.subplot(2,2,3),plt.plot(td,dline),plt.title('contour derivative'),plt.axis([0, len(dline), -amplitude, amplitude])\n",
    "\n",
    "    tdd = np.arange(0, len(ddline))\n",
    "    plt.figure(figsize=(15,15))\n",
    "    plt.subplot(2,2,4),plt.plot(tdd,ddline),plt.title('contour curvature'),plt.axis([0, len(ddline), -amplitude, amplitude])\n",
    "    plt.show()"
   ]
  },
  {
   "cell_type": "code",
   "execution_count": 19,
   "metadata": {
    "collapsed": true
   },
   "outputs": [],
   "source": [
    "def WriteCSVFileName(IMAGEPATH,OUTCSVPATH,OUTCSVNAME):\n",
    "    with open(OUTCSVPATH+OUTCSVNAME,'w',encoding='utf8',newline='') as f:                 #w is erase, a+ is append\n",
    "        writer = csv.writer(f)\n",
    "        writer.writerow([\"ip\", \"usrname\", \"type\", \"date\", \"num\",\"fullname\",\"Sort\",\n",
    "                         \"Bias\",\"Size\",\"Continuity\",\"Smooth\"])\n",
    "        for root, dirs, files in os.walk(IMAGEPATH):  \n",
    "            for file in files:  \n",
    "                splitname = os.path.splitext(file)\n",
    "                if splitname[1] == '.jpeg': \n",
    "                    name = splitname[0].split(\"_\")\n",
    "                    name.append(file)\n",
    "                    writer.writerow(name)                    \n",
    "    f.close()\n",
    "#def ReadCSVFileName(csvfilePATH)"
   ]
  },
  {
   "cell_type": "code",
   "execution_count": 20,
   "metadata": {
    "collapsed": true
   },
   "outputs": [],
   "source": [
    "def WriteLogtxt(LOGPATH,ITEM,linesort,bias,Size,Continuity,Smooth):\n",
    "    with open(LOGPATH + ITEM +'.txt','ab+') as logtxt: \n",
    "        logtxt.seek(-3,2)\n",
    "        if (str(logtxt.read())[-4:-1] == 'END'):\n",
    "            logtxt.close()\n",
    "        else:\n",
    "            logtxt.close()\n",
    "            with open(LOGPATH + ITEM +'.txt','a+') as log:\n",
    "                log.write(',Sort:' + linesort)\n",
    "                log.write(',Bias:' + bias)\n",
    "                log.write(',Size:' + Size)\n",
    "                log.write(',Continuity:' + Continuity)\n",
    "                log.write(',Smooth:' + Smooth)\n",
    "                log.write(',END')\n",
    "            log.close()"
   ]
  },
  {
   "cell_type": "code",
   "execution_count": 21,
   "metadata": {
    "collapsed": true
   },
   "outputs": [],
   "source": [
    "def LinePropertiesAddCSVandLOG(IMAGENAME,OUTCSVPATH,OUTCSVNAME,LOGPATH):\n",
    "    if IMAGENAME[-5:] == '.jpeg':\n",
    "        img = cv2.imread(IMAGEPATH+line,0)\n",
    "        linesort,bias,Size,Continuity,Smooth = lineProperty(img,1,10)\n",
    "        with open(OUTCSVPATH+OUTCSVNAME,'a+',encoding='utf8',newline='') as f: #w is erase, a+ is append\n",
    "            writer = csv.writer(f)\n",
    "            name = IMAGENAME[:-5].split(\"_\")\n",
    "            name.append(IMAGENAME)\n",
    "            name.append(linesort)\n",
    "            name.append(bias)\n",
    "            name.append(Size)\n",
    "            name.append(Continuity)\n",
    "            name.append(Smooth)\n",
    "            writer.writerow(name)\n",
    "        f.close()\n",
    "        #add csv line        \n",
    "        WriteLogtxt(LOGPATH,IMAGENAME[:-5],linesort,str(bias),str(Size),str(Continuity),str(Smooth))\n",
    "        #write log\n",
    "        print(IMAGENAME)\n",
    "        print('name:',line)\n",
    "        print('Type:',linesort)\n",
    "        print('degree accuracy:',bias)\n",
    "        print(\"line size:%.3f\"%Size)\n",
    "        print(\"continuity:%.3f\"%Continuity)\n",
    "        print(\"smooth:%.3f\"%Smooth)\n",
    "        #print properties\n",
    "    else: print('Not a jpeg image\\n')\n",
    "#def ReadCSVFileName(csvfilePATH)"
   ]
  },
  {
   "cell_type": "code",
   "execution_count": 24,
   "metadata": {
    "collapsed": true
   },
   "outputs": [],
   "source": [
    "def linePropertiesWriteCSVandLOG(img,imagecsv,linename):\n",
    "        linesort,bias,Size,Continuity,Smooth = lineProperty(img,1,10)\n",
    "        imagecsv.loc[imagecsv[\"fullname\"]==linename, 'Sort'] = linesort\n",
    "        imagecsv.loc[imagecsv[\"fullname\"]==linename, 'Bias'] = bias\n",
    "        imagecsv.loc[imagecsv[\"fullname\"]==linename, 'Size'] = Size\n",
    "        imagecsv.loc[imagecsv[\"fullname\"]==linename, 'Continuity'] = Continuity\n",
    "        imagecsv.loc[imagecsv[\"fullname\"]==linename, 'Smooth'] = Smooth\n",
    "        WriteLogtxt(LOGPATH,linename[:-5],linesort,str(bias),str(Size),str(Continuity),str(Smooth))\n",
    "        '''\n",
    "        print(linecsvlist[0])\n",
    "        print('name:',line)\n",
    "        print('Type:',linesort)\n",
    "        print('degree accuracy:',bias)\n",
    "        print(\"line size:%.3f\"%Size)\n",
    "        print(\"continuity:%.3f\"%Continuity)\n",
    "        print(\"smooth:%.3f\"%Smooth)\n",
    "        '''\n",
    "#plotLineproperties(imgori,contour,dline,ddline,60)"
   ]
  },
  {
   "cell_type": "code",
   "execution_count": 220,
   "metadata": {},
   "outputs": [
    {
     "data": {
      "text/plain": [
       "'\\n#test.py -i ./image/ -l ./image/ -o ./image/ -n 32.212.54.126_qwer_Line_2017-05-19-09-18-33_6786.jpeg -c batchoutput.csv\\nimport getopt\\nimport sys\\n\\ndef getargv(argv):\\n    IMAGEPATH = \\'\\'\\n    LOGPATH = \\'\\'\\n    OUTCSVPATH = \\'\\'\\n    IMAGENAME = \\'\\'\\n    OUTCSVNAME = \\'\\'\\n    try:\\n        opts, args = getopt.getopt(argv,\"hi:l:o:n:c:\",[\"IMAGEPATH=\",\"LOGPATH=\",\"OUTCSVPATH=\",\"IMAGENAME=\",\"OUTCSVNAME=\"])\\n    except getopt.GetoptError:\\n        print(\\'test.py -i <IMAGEPATH> -l <LOGPATH> -o <OUTCSVPATH> -n <IMAGENAME> -c <OUTCSVNAME>\\')\\n        print(\\'e.g: #test.py -i ./image/ -l ./image/ -o ./image/ -n 32.212.54.126_qwer_Line_2017-05-19-09-18-33_6786.jpeg -c batchoutput.csv\\')\\n        sys.exit(2)\\n    for opt, arg in opts:\\n        if opt == \\'-h\\':\\n            print (\\'test.py -imgp <IMAGEPATH> -logp <LOGPATH> -outp <OUTCSVPATH> -imgn <IMAGENAME> -outn <OUTCSVNAME>\\')\\n            sys.exit()\\n        elif opt in (\"-i\", \"--IMAGEPATH\"):\\n            IMAGEPATH = arg\\n        elif opt in (\"-l\", \"--LOGPATH\"):\\n            LOGPATH = arg\\n        elif opt in (\"-o\", \"--OUTCSVPATH\"):\\n            OUTCSVPATH = arg\\n        elif opt in (\"-n\", \"--IMAGENAME\"):\\n            IMAGENAME = arg\\n        elif opt in (\"-c\", \"--OUTCSVNAME\"):\\n            OUTCSVNAME = arg\\n    return IMAGEPATH,LOGPATH,OUTCSVPATH,IMAGENAME,OUTCSVNAME\\n#test.py -i ./image/ -l ./image/ -o ./image/ -n 32.212.54.126_qwer_Line_2017-05-19-09-18-33_6786.jpeg -c batchoutput.csv\\nIMAGEPATH,LOGPATH,OUTCSVPATH,IMAGENAME,OUTCSVNAME = getargv(sys.argv[1:])\\nprint(IMAGEPATH,LOGPATH,OUTCSVPATH,IMAGENAME,OUTCSVNAME)\\n'"
      ]
     },
     "execution_count": 220,
     "metadata": {},
     "output_type": "execute_result"
    }
   ],
   "source": [
    "#get arg for .py \n",
    "'''\n",
    "def getargv(argv):\n",
    "    IMAGEPATH = ''\n",
    "    LOGPATH = ''\n",
    "    OUTCSVPATH = ''\n",
    "    IMAGENAME = ''\n",
    "    OUTCSVNAME = ''\n",
    "    try:\n",
    "        opts, args = getopt.getopt(argv,\"hi:l:o:n:c:\",[\"IMAGEPATH=\",\"LOGPATH=\",\"OUTCSVPATH=\",\"IMAGENAME=\",\"OUTCSVNAME=\"])\n",
    "    except getopt.GetoptError:\n",
    "        print('test.py -i <IMAGEPATH> -l <LOGPATH> -o <OUTCSVPATH> -n <IMAGENAME> -c <OUTCSVNAME>')\n",
    "        print('e.g: #test.py -i ./image/ -l ./image/ -o ./image/ -n 32.212.54.126_qwer_Line_2017-05-19-09-18-33_6786.jpeg -c batchoutput.csv')\n",
    "        sys.exit(2)\n",
    "    for opt, arg in opts:\n",
    "        if opt == '-h':\n",
    "            print ('test.py -imgp <IMAGEPATH> -logp <LOGPATH> -outp <OUTCSVPATH> -imgn <IMAGENAME> -outn <OUTCSVNAME>')\n",
    "            sys.exit()\n",
    "        elif opt in (\"-i\", \"--IMAGEPATH\"):\n",
    "            IMAGEPATH = arg\n",
    "        elif opt in (\"-l\", \"--LOGPATH\"):\n",
    "            LOGPATH = arg\n",
    "        elif opt in (\"-o\", \"--OUTCSVPATH\"):\n",
    "            OUTCSVPATH = arg\n",
    "        elif opt in (\"-n\", \"--IMAGENAME\"):\n",
    "            IMAGENAME = arg\n",
    "        elif opt in (\"-c\", \"--OUTCSVNAME\"):\n",
    "            OUTCSVNAME = arg\n",
    "    return IMAGEPATH,LOGPATH,OUTCSVPATH,IMAGENAME,OUTCSVNAME\n",
    "    \n",
    "#$~:python3.4 recognition.py -i ./image/ -l ./image/ -o ./image/ -n 32.212.54.126_qwer_Line_2017-05-19-09-18-33_6786.jpeg -c batchoutput.csv\n",
    "IMAGEPATH,LOGPATH,OUTCSVPATH,IMAGENAME,OUTCSVNAME = getargv(sys.argv[1:])\n",
    "'''"
   ]
  },
  {
   "cell_type": "code",
   "execution_count": 25,
   "metadata": {
    "collapsed": true
   },
   "outputs": [],
   "source": [
    "LOGPATH = './image/'\n",
    "IMAGEPATH = './image/'\n",
    "OUTCSVPATH = './image/'\n",
    "IMAGENAME = '32.212.54.126_qwer_Line_2017-05-19-09-18-33_6786.jpeg'\n",
    "OUTCSVNAME = 'batchoutput.csv'\n",
    "#add a new image into ./image/ called '32.212.54.126_qwer_Line_2017-05-19-09-18-33_6786.jpeg'"
   ]
  },
  {
   "cell_type": "code",
   "execution_count": 26,
   "metadata": {
    "scrolled": true
   },
   "outputs": [
    {
     "name": "stderr",
     "output_type": "stream",
     "text": [
      "/home/llcc2196/anaconda3/envs/py3-cv/lib/python3.5/site-packages/ipykernel_launcher.py:5: FutureWarning: by argument to sort_index is deprecated, pls use .sort_values(by=...)\n",
      "  \"\"\"\n"
     ]
    },
    {
     "data": {
      "text/html": [
       "<div>\n",
       "<style>\n",
       "    .dataframe thead tr:only-child th {\n",
       "        text-align: right;\n",
       "    }\n",
       "\n",
       "    .dataframe thead th {\n",
       "        text-align: left;\n",
       "    }\n",
       "\n",
       "    .dataframe tbody tr th {\n",
       "        vertical-align: top;\n",
       "    }\n",
       "</style>\n",
       "<table border=\"1\" class=\"dataframe\">\n",
       "  <thead>\n",
       "    <tr style=\"text-align: right;\">\n",
       "      <th></th>\n",
       "      <th>ip</th>\n",
       "      <th>usrname</th>\n",
       "      <th>type</th>\n",
       "      <th>date</th>\n",
       "      <th>num</th>\n",
       "      <th>fullname</th>\n",
       "      <th>Sort</th>\n",
       "      <th>Bias</th>\n",
       "      <th>Size</th>\n",
       "      <th>Continuity</th>\n",
       "      <th>Smooth</th>\n",
       "    </tr>\n",
       "  </thead>\n",
       "  <tbody>\n",
       "    <tr>\n",
       "      <th>0</th>\n",
       "      <td>32.212.54.136</td>\n",
       "      <td>qwer</td>\n",
       "      <td>Line</td>\n",
       "      <td>2017-05-19-09-18-36</td>\n",
       "      <td>6786</td>\n",
       "      <td>32.212.54.136_qwer_Line_2017-05-19-09-18-36_67...</td>\n",
       "      <td>left diagonal</td>\n",
       "      <td>0.796841</td>\n",
       "      <td>0.689701</td>\n",
       "      <td>0.5</td>\n",
       "      <td>0.197718</td>\n",
       "    </tr>\n",
       "    <tr>\n",
       "      <th>1</th>\n",
       "      <td>32.212.54.136</td>\n",
       "      <td>33</td>\n",
       "      <td>Bee</td>\n",
       "      <td>2017-05-23-09-23-54</td>\n",
       "      <td>4968</td>\n",
       "      <td>32.212.54.136_33_Bee_2017-05-23-09-23-54_4968....</td>\n",
       "      <td>NaN</td>\n",
       "      <td>NaN</td>\n",
       "      <td>NaN</td>\n",
       "      <td>NaN</td>\n",
       "      <td>NaN</td>\n",
       "    </tr>\n",
       "  </tbody>\n",
       "</table>\n",
       "</div>"
      ],
      "text/plain": [
       "              ip usrname  type                 date   num  \\\n",
       "0  32.212.54.136    qwer  Line  2017-05-19-09-18-36  6786   \n",
       "1  32.212.54.136      33   Bee  2017-05-23-09-23-54  4968   \n",
       "\n",
       "                                            fullname           Sort      Bias  \\\n",
       "0  32.212.54.136_qwer_Line_2017-05-19-09-18-36_67...  left diagonal  0.796841   \n",
       "1  32.212.54.136_33_Bee_2017-05-23-09-23-54_4968....            NaN       NaN   \n",
       "\n",
       "       Size  Continuity    Smooth  \n",
       "0  0.689701         0.5  0.197718  \n",
       "1       NaN         NaN       NaN  "
      ]
     },
     "execution_count": 26,
     "metadata": {},
     "output_type": "execute_result"
    }
   ],
   "source": [
    "#calculate exist image into batchoutput.csv and write to logtxt(use linePropertiesWriteCSVandLOG)\n",
    "WriteCSVFileName(IMAGEPATH,OUTCSVPATH,OUTCSVNAME)\n",
    "imagecsv = pd.read_csv(OUTCSVPATH+OUTCSVNAME)\n",
    "linepd = imagecsv[imagecsv[\"type\"]=='Line'] #select line\n",
    "linepd = linepd.sort_index(by=['date','num'],ascending=True).reset_index() #sorting as save time\n",
    "linefullname = linepd['fullname']\n",
    "for line in linefullname: \n",
    "    img = cv2.imread(IMAGEPATH+line,0)\n",
    "#   imgori = cv2.imread(IMAGEPATH+line)\n",
    "    linePropertiesWriteCSVandLOG(img,imagecsv,line) \n",
    "imagecsv.to_csv(OUTCSVPATH+OUTCSVNAME,index=False)\n",
    "#original batchoutput.csv\n",
    "imgp = pd.read_csv(OUTCSVPATH+OUTCSVNAME)\n",
    "imgp"
   ]
  },
  {
   "cell_type": "code",
   "execution_count": 27,
   "metadata": {
    "scrolled": true
   },
   "outputs": [
    {
     "name": "stdout",
     "output_type": "stream",
     "text": [
      "32.212.54.126_qwer_Line_2017-05-19-09-18-33_6786.jpeg\n",
      "name: 32.212.54.136_qwer_Line_2017-05-19-09-18-36_6786.jpeg\n",
      "Type: left diagonal\n",
      "degree accuracy: 0.7968409912860125\n",
      "line size:0.690\n",
      "continuity:0.500\n",
      "smooth:0.198\n"
     ]
    }
   ],
   "source": [
    "#calculate new image  add into batchoutput.csv and write to its logtxt(use LinePropertiesAddCSVandLOG)\n",
    "if IMAGENAME[-35:-29] == '_Line_':\n",
    "    LinePropertiesAddCSVandLOG(IMAGENAME,OUTCSVPATH,OUTCSVNAME,LOGPATH)"
   ]
  },
  {
   "cell_type": "code",
   "execution_count": 28,
   "metadata": {
    "scrolled": true
   },
   "outputs": [
    {
     "data": {
      "text/html": [
       "<div>\n",
       "<style>\n",
       "    .dataframe thead tr:only-child th {\n",
       "        text-align: right;\n",
       "    }\n",
       "\n",
       "    .dataframe thead th {\n",
       "        text-align: left;\n",
       "    }\n",
       "\n",
       "    .dataframe tbody tr th {\n",
       "        vertical-align: top;\n",
       "    }\n",
       "</style>\n",
       "<table border=\"1\" class=\"dataframe\">\n",
       "  <thead>\n",
       "    <tr style=\"text-align: right;\">\n",
       "      <th></th>\n",
       "      <th>ip</th>\n",
       "      <th>usrname</th>\n",
       "      <th>type</th>\n",
       "      <th>date</th>\n",
       "      <th>num</th>\n",
       "      <th>fullname</th>\n",
       "      <th>Sort</th>\n",
       "      <th>Bias</th>\n",
       "      <th>Size</th>\n",
       "      <th>Continuity</th>\n",
       "      <th>Smooth</th>\n",
       "    </tr>\n",
       "  </thead>\n",
       "  <tbody>\n",
       "    <tr>\n",
       "      <th>0</th>\n",
       "      <td>32.212.54.136</td>\n",
       "      <td>qwer</td>\n",
       "      <td>Line</td>\n",
       "      <td>2017-05-19-09-18-36</td>\n",
       "      <td>6786</td>\n",
       "      <td>32.212.54.136_qwer_Line_2017-05-19-09-18-36_67...</td>\n",
       "      <td>left diagonal</td>\n",
       "      <td>0.796841</td>\n",
       "      <td>0.689701</td>\n",
       "      <td>0.5</td>\n",
       "      <td>0.197718</td>\n",
       "    </tr>\n",
       "    <tr>\n",
       "      <th>1</th>\n",
       "      <td>32.212.54.136</td>\n",
       "      <td>33</td>\n",
       "      <td>Bee</td>\n",
       "      <td>2017-05-23-09-23-54</td>\n",
       "      <td>4968</td>\n",
       "      <td>32.212.54.136_33_Bee_2017-05-23-09-23-54_4968....</td>\n",
       "      <td>NaN</td>\n",
       "      <td>NaN</td>\n",
       "      <td>NaN</td>\n",
       "      <td>NaN</td>\n",
       "      <td>NaN</td>\n",
       "    </tr>\n",
       "    <tr>\n",
       "      <th>2</th>\n",
       "      <td>32.212.54.126</td>\n",
       "      <td>qwer</td>\n",
       "      <td>Line</td>\n",
       "      <td>2017-05-19-09-18-33</td>\n",
       "      <td>6786</td>\n",
       "      <td>32.212.54.126_qwer_Line_2017-05-19-09-18-33_67...</td>\n",
       "      <td>left diagonal</td>\n",
       "      <td>0.796841</td>\n",
       "      <td>0.689701</td>\n",
       "      <td>0.5</td>\n",
       "      <td>0.197718</td>\n",
       "    </tr>\n",
       "  </tbody>\n",
       "</table>\n",
       "</div>"
      ],
      "text/plain": [
       "              ip usrname  type                 date   num  \\\n",
       "0  32.212.54.136    qwer  Line  2017-05-19-09-18-36  6786   \n",
       "1  32.212.54.136      33   Bee  2017-05-23-09-23-54  4968   \n",
       "2  32.212.54.126    qwer  Line  2017-05-19-09-18-33  6786   \n",
       "\n",
       "                                            fullname           Sort      Bias  \\\n",
       "0  32.212.54.136_qwer_Line_2017-05-19-09-18-36_67...  left diagonal  0.796841   \n",
       "1  32.212.54.136_33_Bee_2017-05-23-09-23-54_4968....            NaN       NaN   \n",
       "2  32.212.54.126_qwer_Line_2017-05-19-09-18-33_67...  left diagonal  0.796841   \n",
       "\n",
       "       Size  Continuity    Smooth  \n",
       "0  0.689701         0.5  0.197718  \n",
       "1       NaN         NaN       NaN  \n",
       "2  0.689701         0.5  0.197718  "
      ]
     },
     "execution_count": 28,
     "metadata": {},
     "output_type": "execute_result"
    }
   ],
   "source": [
    "#changed batchoutput.csv\n",
    "imgadd = pd.read_csv(OUTCSVPATH+OUTCSVNAME)\n",
    "imgadd"
   ]
  },
  {
   "cell_type": "code",
   "execution_count": null,
   "metadata": {
    "collapsed": true
   },
   "outputs": [],
   "source": []
  }
 ],
 "metadata": {
  "kernelspec": {
   "display_name": "Python 3",
   "language": "python",
   "name": "python3"
  },
  "language_info": {
   "codemirror_mode": {
    "name": "ipython",
    "version": 3
   },
   "file_extension": ".py",
   "mimetype": "text/x-python",
   "name": "python",
   "nbconvert_exporter": "python",
   "pygments_lexer": "ipython3",
   "version": "3.5.2"
  },
  "widgets": {
   "state": {},
   "version": "1.1.2"
  }
 },
 "nbformat": 4,
 "nbformat_minor": 2
}
