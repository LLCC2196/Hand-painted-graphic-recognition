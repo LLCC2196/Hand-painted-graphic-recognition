{
 "cells": [
  {
   "cell_type": "code",
   "execution_count": 1,
   "metadata": {},
   "outputs": [],
   "source": [
    "#Created on: May 23, 2017\n",
    "#Author: chen\n",
    "#llcc2196@gmail.com\n",
    "import numpy as np\n",
    "import matplotlib\n",
    "matplotlib.use('TkAgg')\n",
    "from matplotlib import pyplot as plt\n",
    "import math\n",
    "import cv2"
   ]
  },
  {
   "cell_type": "code",
   "execution_count": 2,
   "metadata": {
    "collapsed": true
   },
   "outputs": [],
   "source": [
    "#sort the lines(horizon,vertical,left diagonal,right diagonal)\n",
    "def lines_sort(degree,tolerance_h = 10,tolerance_v = 10,\n",
    "        tolerance_l = 10,tolerance_r = 10):\n",
    "    print('degree:%.3f'%degree)\n",
    "    if(((90 - tolerance_h) <= degree and degree <= 90) or\n",
    "       (-90 <= degree and degree <= (-90 + tolerance_h))):\n",
    "        linesort = 'vertical'\n",
    "        bias = abs(abs(degree) - 90)\n",
    "    elif((0 - tolerance_h) <= degree and degree <= (0 + tolerance_h)): \n",
    "        linesort = 'horizon'\n",
    "        bias = abs(degree)\n",
    "    elif((-45 - tolerance_h) <= degree and degree <= (-45 + tolerance_h)):\n",
    "        linesort = 'right diagonal'\n",
    "        bias = abs(abs(degree) - 45)\n",
    "    elif((45 - tolerance_h) <= degree and degree <= (45 + tolerance_h)):\n",
    "        linesort = 'left diagonal'\n",
    "        bias = abs(abs(degree) - 45)\n",
    "    else: \n",
    "        linesort = 'incorrect'\n",
    "        bias = abs(abs(degree) - 45)\n",
    "    print('Type:',linesort)\n",
    "    print('bias:%.3f'%bias)\n",
    "    return linesort,bias"
   ]
  },
  {
   "cell_type": "code",
   "execution_count": 3,
   "metadata": {
    "collapsed": true
   },
   "outputs": [],
   "source": [
    "#cutoff should equal to the width of line\n",
    "def lineContours(img,cutoff = 5):\n",
    "    ret, binary = cv2.threshold(img,127,255,0) \n",
    "    img2, contours, hierarchy = cv2.findContours\t\t\t(binary,cv2.RETR_TREE,cv2.CHAIN_APPROX_NONE) \n",
    "#If you pass cv2.CHAIN_APPROX_NONE, all the boundary points are stored.\n",
    "    for i in range(1,len(contours)):\n",
    "        linecontours = np.vstack(contours[i]).squeeze()\n",
    "        if len(linecontours) % 2 != 0:\n",
    "            linecontours = linecontours[:-1]\n",
    "        contour = np.vsplit(linecontours, 2) \n",
    "        if(i == 1):\n",
    "            con = contour[0][cutoff:-cutoff]\n",
    "        else:\n",
    "            con = np.vstack((contour[0][cutoff:-cutoff],con))\n",
    "    return con,len(contours)"
   ]
  },
  {
   "cell_type": "code",
   "execution_count": 4,
   "metadata": {
    "collapsed": true
   },
   "outputs": [],
   "source": [
    "def lineContinuity(contournumber):\n",
    "    return 1/(contournumber-1)"
   ]
  },
  {
   "cell_type": "code",
   "execution_count": 5,
   "metadata": {
    "collapsed": true
   },
   "outputs": [],
   "source": [
    "def lineSmooth(ddline,threshold = 60):\n",
    "    aveddline = np.array(ddline)\n",
    "    smooth = [elem for elem in aveddline if elem < threshold]\n",
    "    smooth = [elem for elem in aveddline if elem > -threshold]\n",
    "    return np.var(smooth)"
   ]
  },
  {
   "cell_type": "code",
   "execution_count": 6,
   "metadata": {},
   "outputs": [
    {
     "data": {
      "text/plain": [
       "\"\\n    #show image with fitline\\n    rows,cols = img.shape[:2]\\n    lefty = int((-x*vy/vx) + y)\\n    righty = int(((cols-x)*vy/vx)+y)\\n    cv2.line(img,(cols-1,righty),(0,lefty),(0,255,0),2)\\n    cv2.imshow('Image',img)\\n    cv2.waitKey(0)\\n\""
      ]
     },
     "execution_count": 6,
     "metadata": {},
     "output_type": "execute_result"
    }
   ],
   "source": [
    "#img should be the image only have one approximate line\n",
    "#tolerance_* is the degree bias(0~45) of the line compared to the correct line\n",
    "#_h-horizon _v-vertical _l-left diagonal r-right diagonal\n",
    "def lineDistinguish(img,tolerance_h = 10,tolerance_v = 10,\n",
    "       tolerance_l = 10,tolerance_r = 10):\n",
    "    cnt,connum = lineContours(img)\n",
    "\n",
    "    [vx,vy,x,y] = cv2.fitLine(cnt, cv2.DIST_HUBER,0,0.01,0.01)\n",
    "    line_radian = math.atan(vy/vx)\n",
    "    line_degree = line_radian / math.pi * 180\n",
    "    return (lines_sort(line_degree,tolerance_h,tolerance_v,\n",
    "            tolerance_l,tolerance_r))\n",
    "\n",
    "'''\n",
    "    #show image with fitline\n",
    "    rows,cols = img.shape[:2]\n",
    "    lefty = int((-x*vy/vx) + y)\n",
    "    righty = int(((cols-x)*vy/vx)+y)\n",
    "    cv2.line(img,(cols-1,righty),(0,lefty),(0,255,0),2)\n",
    "    cv2.imshow('Image',img)\n",
    "    cv2.waitKey(0)\n",
    "'''"
   ]
  },
  {
   "cell_type": "code",
   "execution_count": 7,
   "metadata": {
    "collapsed": true
   },
   "outputs": [],
   "source": [
    "def lineSize(contour,suitable = 0.65,x_axis = 1000,y_axis = 1000):\n",
    "    lineType,bias = lineDistinguish(img)\n",
    "    if lineType == 'vertical':\n",
    "        return len(contour)/(suitable*y_axis)\n",
    "    elif lineType == 'horizon':\n",
    "        return len(contour)/(suitable*x_axis)\n",
    "    else :\n",
    "        return len(contour)/(suitable*((x_axis**2+y_axis**2)**0.5))"
   ]
  },
  {
   "cell_type": "code",
   "execution_count": 8,
   "metadata": {
    "collapsed": true
   },
   "outputs": [],
   "source": [
    "def derivative(point1,point2):\n",
    "    dpoint = float((point2[1] - point1[1]) / (point2[0] - point1[0])) \n",
    "    if math.isinf(dpoint) :\n",
    "        dpoint = 50\n",
    "    return dpoint"
   ]
  },
  {
   "cell_type": "code",
   "execution_count": 9,
   "metadata": {
    "collapsed": true
   },
   "outputs": [],
   "source": [
    "def lineDerivative(line,step=1,averstep=1):\n",
    "    dline = []\n",
    "    for i in range(0,len(line)-averstep,step):\n",
    "        dline.append(derivative(line[i],line[i + averstep]))\n",
    "    return dline"
   ]
  },
  {
   "cell_type": "code",
   "execution_count": 10,
   "metadata": {
    "collapsed": true
   },
   "outputs": [],
   "source": [
    "def lineCurvature(dline,step=1,averstep=1):\n",
    "    ddline = []\n",
    "    for i in range(0,len(dline)-averstep,step):\n",
    "        ddline.append(dline[i+averstep] - dline[i])\n",
    "    return ddline"
   ]
  },
  {
   "cell_type": "code",
   "execution_count": 11,
   "metadata": {
    "collapsed": true
   },
   "outputs": [],
   "source": [
    "#plot the line properties(original image,line,derivative of line,curvature of line),x_axis,y_axis is image size\n",
    "def plotLineproperties(img,contour,dline,ddline,amplitude = 10,x_axis = 1000,y_axis = 1000):\n",
    "\n",
    "    plt.subplot(2,2,1),plt.title('original image')\n",
    "    plt.imshow(img)\n",
    "\n",
    "    x = contour[:,0]\n",
    "    y = contour[:,1]\n",
    "    plt.subplot(2,2,2),plt.title('contour points')\n",
    "    plt.plot(x,y),plt.axis([0, x_axis, 0, y_axis])\n",
    "\n",
    "    td = np.arange(0, len(dline))\n",
    "    plt.subplot(2,2,3),plt.plot(td,dline),plt.title('contour derivative'),plt.axis([0, len(dline), -amplitude, amplitude])\n",
    "\n",
    "    tdd = np.arange(0, len(ddline))\n",
    "    plt.subplot(2,2,4),plt.plot(tdd,ddline),plt.title('contour curvature'),plt.axis([0, len(ddline), -amplitude, amplitude])\n",
    "    plt.show()\n",
    "    return 0"
   ]
  },
  {
   "cell_type": "code",
   "execution_count": null,
   "metadata": {},
   "outputs": [],
   "source": [
    "img = cv2.imread('line4-1000.jpeg',0)\n",
    "imgori = cv2.imread('line4-1000.jpeg')\n",
    "contour,connum = lineContours(img)\n",
    "print(\"line size:%.3f\"%lineSize(contour))\n",
    "print(\"continuity:%.3f\"%lineContinuity(connum))\n",
    "dline = lineDerivative(contour,1,10)\n",
    "ddline = lineCurvature(dline)\n",
    "print(\"smooth:%.3f\"%lineSmooth(ddline))\n",
    "plotLineproperties(imgori,contour,dline,ddline,60)"
   ]
  },
  {
   "cell_type": "code",
   "execution_count": null,
   "metadata": {
    "collapsed": true
   },
   "outputs": [],
   "source": []
  }
 ],
 "metadata": {
  "kernelspec": {
   "display_name": "Python 3",
   "language": "python",
   "name": "python3"
  },
  "language_info": {
   "codemirror_mode": {
    "name": "ipython",
    "version": 3
   },
   "file_extension": ".py",
   "mimetype": "text/x-python",
   "name": "python",
   "nbconvert_exporter": "python",
   "pygments_lexer": "ipython3",
   "version": "3.5.2"
  },
  "widgets": {
   "state": {},
   "version": "1.1.2"
  }
 },
 "nbformat": 4,
 "nbformat_minor": 2
}
