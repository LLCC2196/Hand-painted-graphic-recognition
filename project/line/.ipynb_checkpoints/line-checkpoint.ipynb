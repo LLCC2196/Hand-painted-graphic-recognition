{
 "cells": [
  {
   "cell_type": "code",
   "execution_count": 1,
   "metadata": {
    "collapsed": true
   },
   "outputs": [],
   "source": [
    "#Created on: May 23, 2017\n",
    "#Author: chen\n",
    "#llcc2196@gmail.com\n",
    "import numpy as np\n",
    "import matplotlib\n",
    "matplotlib.use('TkAgg')\n",
    "from matplotlib import pyplot as plt\n",
    "import math\n",
    "import cv2\n",
    "%matplotlib inline"
   ]
  },
  {
   "cell_type": "code",
   "execution_count": 101,
   "metadata": {
    "collapsed": true
   },
   "outputs": [],
   "source": [
    "#sort the lines(horizon,vertical,left diagonal,right diagonal)\n",
    "def lines_sort(degree,tolerance_h = 10,tolerance_v = 10,\n",
    "        tolerance_l = 10,tolerance_r = 10):\n",
    "    if(((90 - tolerance_h) <= degree and degree <= 90) or\n",
    "       (-90 <= degree and degree <= (-90 + tolerance_h))):\n",
    "        linesort = 'vertical'\n",
    "        bias = (tolerance_v - abs(abs(degree) - 90))/tolerance_v\n",
    "    elif((0 - tolerance_h) <= degree and degree <= (0 + tolerance_h)): \n",
    "        linesort = 'horizon'\n",
    "        bias = (tolerance_h - abs(degree))/tolerance_h\n",
    "    elif((-45 - tolerance_h) <= degree and degree <= (-45 + tolerance_h)):\n",
    "        linesort = 'right diagonal'\n",
    "        bias = abs(abs(degree) - 45)\n",
    "    elif((45 - tolerance_h) <= degree and degree <= (45 + tolerance_h)):\n",
    "        linesort = 'left diagonal'\n",
    "        bias = (tolerance_l - abs(abs(degree) - 45))/tolerance_l\n",
    "    else: \n",
    "        linesort = 'incorrect'\n",
    "        bias = (tolerance_r - abs(abs(degree) - 45))/tolerance_r\n",
    "    return linesort,bias"
   ]
  },
  {
   "cell_type": "code",
   "execution_count": 102,
   "metadata": {
    "collapsed": true
   },
   "outputs": [],
   "source": [
    "#cutoff should equal to the width of line\n",
    "def lineContours(img,cutoff = 5):\n",
    "    ret, binary = cv2.threshold(img,127,255,0) \n",
    "    img2, contours, hierarchy = cv2.findContours(binary,cv2.RETR_TREE,cv2.CHAIN_APPROX_NONE) \n",
    "#If you pass cv2.CHAIN_APPROX_NONE, all the boundary points are stored.\n",
    "    for i in range(1,len(contours)):\n",
    "        linecontours = np.vstack(contours[i]).squeeze()\n",
    "        if len(linecontours) % 2 != 0:\n",
    "            linecontours = linecontours[:-1]\n",
    "        contour = np.vsplit(linecontours, 2) \n",
    "        if(i == 1):\n",
    "            con = contour[0][cutoff:-cutoff]\n",
    "        else:\n",
    "            con = np.vstack((contour[0][cutoff:-cutoff],con))\n",
    "    return con,len(contours)"
   ]
  },
  {
   "cell_type": "code",
   "execution_count": 103,
   "metadata": {
    "collapsed": true
   },
   "outputs": [],
   "source": [
    "def lineContinuity(contournumber):\n",
    "    return 1/(contournumber-1)"
   ]
  },
  {
   "cell_type": "code",
   "execution_count": 104,
   "metadata": {
    "collapsed": true
   },
   "outputs": [],
   "source": [
    "def lineSmooth(ddline,threshold = 60):\n",
    "    aveddline = np.array(ddline)\n",
    "    smooth = [elem for elem in aveddline if elem < threshold]\n",
    "    smooth = [elem for elem in aveddline if elem > -threshold]\n",
    "    return np.var(smooth)"
   ]
  },
  {
   "cell_type": "code",
   "execution_count": 105,
   "metadata": {},
   "outputs": [],
   "source": [
    "#img should be the image only have one approximate line\n",
    "#tolerance_* is the degree bias(0~45) of the line compared to the correct line\n",
    "#_h-horizon _v-vertical _l-left diagonal r-right diagonal\n",
    "def lineDistinguish(img,tolerance_h = 10,tolerance_v = 10,\n",
    "       tolerance_l = 10,tolerance_r = 10):\n",
    "    cnt,connum = lineContours(img)\n",
    "\n",
    "    [vx,vy,x,y] = cv2.fitLine(cnt, cv2.DIST_HUBER,0,0.01,0.01)\n",
    "    line_radian = math.atan(vy/vx)\n",
    "    line_degree = line_radian / math.pi * 180\n",
    "    return (lines_sort(line_degree,tolerance_h,tolerance_v,\n",
    "            tolerance_l,tolerance_r))\n",
    "    '''\n",
    "    #show image with fitline\n",
    "    rows,cols = img.shape[:2]\n",
    "    lefty = int((-x*vy/vx) + y)\n",
    "    righty = int(((cols-x)*vy/vx)+y)\n",
    "    cv2.line(img,(cols-1,righty),(0,lefty),(0,255,0),2)\n",
    "    cv2.imshow('Image',img)\n",
    "    cv2.waitKey(0)\n",
    "    '''"
   ]
  },
  {
   "cell_type": "code",
   "execution_count": 106,
   "metadata": {
    "collapsed": true
   },
   "outputs": [],
   "source": [
    "def lineSize(contour,suitable = 0.65,x_axis = 1000,y_axis = 1000):\n",
    "    lineType,bias = lineDistinguish(img)\n",
    "    if lineType == 'vertical':\n",
    "        return len(contour)/(suitable*y_axis)\n",
    "    elif lineType == 'horizon':\n",
    "        return len(contour)/(suitable*x_axis)\n",
    "    else :\n",
    "        return len(contour)/(suitable*((x_axis**2+y_axis**2)**0.5))"
   ]
  },
  {
   "cell_type": "code",
   "execution_count": 107,
   "metadata": {
    "collapsed": true
   },
   "outputs": [],
   "source": [
    "def derivativeX(point1,point2):\n",
    "    dpointx = float(point2[0] - point1[0]) \n",
    "    return dpointx"
   ]
  },
  {
   "cell_type": "code",
   "execution_count": 108,
   "metadata": {
    "collapsed": true
   },
   "outputs": [],
   "source": [
    "def derivativeY(point1,point2):\n",
    "    dpointy = float(point2[1] - point1[1])\n",
    "    return dpointy"
   ]
  },
  {
   "cell_type": "code",
   "execution_count": 109,
   "metadata": {
    "collapsed": true
   },
   "outputs": [],
   "source": [
    "def derivative(point1,point2):\n",
    "    dpoint = float((point2[1] - point1[1]) / (point2[0] - point1[0])) \n",
    "    if math.isinf(dpoint) :\n",
    "        dpoint = 50\n",
    "    return dpoint"
   ]
  },
  {
   "cell_type": "code",
   "execution_count": 110,
   "metadata": {
    "collapsed": true
   },
   "outputs": [],
   "source": [
    "def lineDerivativeX(line,step=1,averstep=1):\n",
    "    dlinex = []\n",
    "    for i in range(0,len(line)-averstep,step):\n",
    "        dlinex.append(derivativeX(line[i],line[i + averstep]))\n",
    "    return dlinex"
   ]
  },
  {
   "cell_type": "code",
   "execution_count": 111,
   "metadata": {
    "collapsed": true
   },
   "outputs": [],
   "source": [
    "def lineDerivativeY(line,step=1,averstep=1):\n",
    "    dliney = []\n",
    "    for i in range(0,len(line)-averstep,step):\n",
    "        dliney.append(derivativeY(line[i],line[i + averstep]))\n",
    "    return dliney"
   ]
  },
  {
   "cell_type": "code",
   "execution_count": 112,
   "metadata": {
    "collapsed": true
   },
   "outputs": [],
   "source": [
    "def lineDerivative(line,step=1,averstep=1):\n",
    "    dline = []\n",
    "    for i in range(0,len(line)-averstep,step):\n",
    "        dline.append(derivative(line[i],line[i + averstep]))\n",
    "    return dline"
   ]
  },
  {
   "cell_type": "code",
   "execution_count": 113,
   "metadata": {
    "collapsed": true
   },
   "outputs": [],
   "source": [
    "def lineCurvatureX(dline,step=1,averstep=1):\n",
    "    ddlinex = []\n",
    "    for i in range(0,len(dline)-averstep,step):\n",
    "        ddlinex.append(dline[i+averstep] - dline[i])\n",
    "    return ddlinex"
   ]
  },
  {
   "cell_type": "code",
   "execution_count": 114,
   "metadata": {
    "collapsed": true
   },
   "outputs": [],
   "source": [
    "def lineCurvatureY(dline,step=1,averstep=1):\n",
    "    ddliney = []\n",
    "    for i in range(0,len(dline)-averstep,step):\n",
    "        ddliney.append(dline[i+averstep] - dline[i])\n",
    "    return ddliney"
   ]
  },
  {
   "cell_type": "code",
   "execution_count": 115,
   "metadata": {
    "collapsed": true
   },
   "outputs": [],
   "source": [
    "def lineCurvature(dline,step=1,averstep=1):\n",
    "    ddline = []\n",
    "    for i in range(0,len(dline)-averstep,step):\n",
    "        ddline.append(dline[i+averstep] - dline[i])\n",
    "    return ddline"
   ]
  },
  {
   "cell_type": "code",
   "execution_count": 116,
   "metadata": {
    "collapsed": true
   },
   "outputs": [],
   "source": [
    "def lineProperty(img,dstep=1,daverstep=1,ddstep=1,ddaverstep=1):\n",
    "    linesort,bias = lineDistinguish(img)\n",
    "    contour,connum = lineContours(img)\n",
    "    Size = lineSize(contour)\n",
    "    Continuity = lineContinuity(connum)\n",
    "    dline = lineDerivative(contour,dstep,daverstep)\n",
    "    ddline = lineCurvature(dline,ddstep,ddaverstep)\n",
    "    Smooth = lineSmooth(ddline)\n",
    "    return linesort,bias,Size,Continuity,Smooth"
   ]
  },
  {
   "cell_type": "code",
   "execution_count": 117,
   "metadata": {},
   "outputs": [],
   "source": [
    "#plot the line properties(original image,line,derivative of line,curvature of line),x_axis,y_axis is image size\n",
    "def plotLineproperties(img,contour,dline,ddline,amplitude = 10,x_axis = 1000,y_axis = 1000):\n",
    "\n",
    "    plt.figure(figsize=(15,15))\n",
    "    plt.subplot(2,2,1),plt.title('original image')\n",
    "    plt.imshow(img)\n",
    "    \n",
    "    x = contour[:,0]\n",
    "    y = contour[:,1]\n",
    "    plt.figure(figsize=(15,15))\n",
    "    plt.subplot(2,2,2),plt.title('contour points')\n",
    "    plt.plot(x,y),plt.axis([0, x_axis, 0, y_axis])\n",
    "\n",
    "    td = np.arange(0, len(dline))\n",
    "    plt.figure(figsize=(15,15))\n",
    "    plt.subplot(2,2,3),plt.plot(td,dline),plt.title('contour derivative'),plt.axis([0, len(dline), -amplitude, amplitude])\n",
    "\n",
    "    tdd = np.arange(0, len(ddline))\n",
    "    plt.figure(figsize=(15,15))\n",
    "    plt.subplot(2,2,4),plt.plot(tdd,ddline),plt.title('contour curvature'),plt.axis([0, len(ddline), -amplitude, amplitude])\n",
    "    plt.show()"
   ]
  },
  {
   "cell_type": "code",
   "execution_count": 300,
   "metadata": {},
   "outputs": [
    {
     "ename": "IndentationError",
     "evalue": "expected an indented block (<ipython-input-300-cbe1576190a4>, line 16)",
     "output_type": "error",
     "traceback": [
      "\u001b[0;36m  File \u001b[0;32m\"<ipython-input-300-cbe1576190a4>\"\u001b[0;36m, line \u001b[0;32m16\u001b[0m\n\u001b[0;31m    f.close()\u001b[0m\n\u001b[0m    ^\u001b[0m\n\u001b[0;31mIndentationError\u001b[0m\u001b[0;31m:\u001b[0m expected an indented block\n"
     ]
    }
   ],
   "source": [
    "import os  \n",
    "import csv\n",
    "import sys\n",
    "\n",
    "def WriteCSVFileName(file_dir,csvfilePATH):\n",
    "    with open(csvfilePATH,'w',encoding='utf8',newline='') as f:\n",
    "        writer = csv.write(f)\n",
    "        writer.writerow([\"ip\", \"usrname\", \"type\", \"date\", \"num\"])\n",
    "        for root, dirs, files in os.walk(file_dir):  \n",
    "            for file in files:  \n",
    "                splitname = os.path.splitext(file)\n",
    "                #if splitname[1] == '.jpeg': \n",
    "                    #writer.writerow(splitname[0].split(\"_\"))\n",
    "                    \n",
    "                    \n",
    "    f.close()\n",
    "#def ReadCSVFileName(csvfilePATH)"
   ]
  },
  {
   "cell_type": "code",
   "execution_count": 297,
   "metadata": {
    "collapsed": true
   },
   "outputs": [],
   "source": [
    "WriteFileName('./image','./image/imagename.csv')"
   ]
  },
  {
   "cell_type": "code",
   "execution_count": 298,
   "metadata": {},
   "outputs": [
    {
     "data": {
      "text/html": [
       "<div>\n",
       "<style>\n",
       "    .dataframe thead tr:only-child th {\n",
       "        text-align: right;\n",
       "    }\n",
       "\n",
       "    .dataframe thead th {\n",
       "        text-align: left;\n",
       "    }\n",
       "\n",
       "    .dataframe tbody tr th {\n",
       "        vertical-align: top;\n",
       "    }\n",
       "</style>\n",
       "<table border=\"1\" class=\"dataframe\">\n",
       "  <thead>\n",
       "    <tr style=\"text-align: right;\">\n",
       "      <th></th>\n",
       "      <th>32.212.54.136</th>\n",
       "      <th>qwer</th>\n",
       "      <th>Line</th>\n",
       "      <th>2017-05-19-09-18-36</th>\n",
       "      <th>6786</th>\n",
       "    </tr>\n",
       "  </thead>\n",
       "  <tbody>\n",
       "    <tr>\n",
       "      <th>0</th>\n",
       "      <td>32.212.54.136</td>\n",
       "      <td>33</td>\n",
       "      <td>Bee</td>\n",
       "      <td>2017-05-23-09-23-54</td>\n",
       "      <td>4968</td>\n",
       "    </tr>\n",
       "    <tr>\n",
       "      <th>1</th>\n",
       "      <td>32.212.54.136</td>\n",
       "      <td>33</td>\n",
       "      <td>Bee</td>\n",
       "      <td>2017-04-19-09-08-07</td>\n",
       "      <td>9356</td>\n",
       "    </tr>\n",
       "    <tr>\n",
       "      <th>2</th>\n",
       "      <td>32.212.54.136</td>\n",
       "      <td>anonymous</td>\n",
       "      <td>Line</td>\n",
       "      <td>2017-04-19-09-18-19</td>\n",
       "      <td>2545</td>\n",
       "    </tr>\n",
       "  </tbody>\n",
       "</table>\n",
       "</div>"
      ],
      "text/plain": [
       "   32.212.54.136       qwer  Line  2017-05-19-09-18-36  6786\n",
       "0  32.212.54.136         33   Bee  2017-05-23-09-23-54  4968\n",
       "1  32.212.54.136         33   Bee  2017-04-19-09-08-07  9356\n",
       "2  32.212.54.136  anonymous  Line  2017-04-19-09-18-19  2545"
      ]
     },
     "execution_count": 298,
     "metadata": {},
     "output_type": "execute_result"
    }
   ],
   "source": [
    "import pandas as pd\n",
    "pd1 = pd.read_csv(\"./image/imagename.csv\")\n",
    "pd1"
   ]
  },
  {
   "cell_type": "code",
   "execution_count": 121,
   "metadata": {},
   "outputs": [
    {
     "name": "stderr",
     "output_type": "stream",
     "text": [
      "/home/llcc2196/anaconda3/envs/py3-cv/lib/python3.5/site-packages/ipykernel_launcher.py:2: RuntimeWarning: divide by zero encountered in int_scalars\n",
      "  \n"
     ]
    },
    {
     "name": "stdout",
     "output_type": "stream",
     "text": [
      "Type: left diagonal\n",
      "degree accuracy:0.955\n",
      "line size:1.746\n",
      "continuity:1.000\n",
      "smooth:33.213\n"
     ]
    },
    {
     "data": {
      "image/png": "[encoded data removed]",
      "text/plain": [
       "<matplotlib.figure.Figure at 0x7f40dfae7940>"
      ]
     },
     "metadata": {},
     "output_type": "display_data"
    },
    {
     "data": {
      "image/png": "[encoded data removed]",
      "text/plain": [
       "<matplotlib.figure.Figure at 0x7f40df7b6438>"
      ]
     },
     "metadata": {},
     "output_type": "display_data"
    },
    {
     "data": {
      "image/png": "[encoded data removed]",
      "text/plain": [
       "<matplotlib.figure.Figure at 0x7f40ddc241d0>"
      ]
     },
     "metadata": {},
     "output_type": "display_data"
    },
    {
     "data": {
      "image/png": "[encoded data removed]",
      "text/plain": [
       "<matplotlib.figure.Figure at 0x7f40df70ba90>"
      ]
     },
     "metadata": {},
     "output_type": "display_data"
    }
   ],
   "source": [
    "\n",
    "\n",
    "img = cv2.imread('line2-1000.jpeg',0)\n",
    "imgori = cv2.imread('line2-1000.jpeg')\n",
    "linesort,bias,Size,Continuity,Smooth = lineProperty(img,1,10)\n",
    "\n",
    "print('Type:',linesort)\n",
    "print('degree accuracy:%.3f'%bias)\n",
    "print(\"line size:%.3f\"%Size)\n",
    "print(\"continuity:%.3f\"%Continuity)\n",
    "print(\"smooth:%.3f\"%Smooth)\n",
    "\n",
    "plotLineproperties(imgori,contour,dline,ddline,60)"
   ]
  }
 ],
 "metadata": {
  "kernelspec": {
   "display_name": "Python 3",
   "language": "python",
   "name": "python3"
  },
  "language_info": {
   "codemirror_mode": {
    "name": "ipython",
    "version": 3
   },
   "file_extension": ".py",
   "mimetype": "text/x-python",
   "name": "python",
   "nbconvert_exporter": "python",
   "pygments_lexer": "ipython3",
   "version": "3.5.2"
  },
  "widgets": {
   "state": {},
   "version": "1.1.2"
  }
 },
 "nbformat": 4,
 "nbformat_minor": 2
}
