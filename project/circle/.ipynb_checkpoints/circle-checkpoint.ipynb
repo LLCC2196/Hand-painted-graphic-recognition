{
 "cells": [
  {
   "cell_type": "code",
   "execution_count": 1,
   "metadata": {
    "collapsed": true
   },
   "outputs": [],
   "source": [
    "#Created on: Apr 18, 2017\n",
    "#Author: chen\n",
    "#llcc2196@gmail.com\n",
    "import cv2\n",
    "import numpy as np\n",
    "import matplotlib\n",
    "matplotlib.use('TkAgg')\n",
    "from matplotlib import pyplot as plt\n",
    "import math"
   ]
  },
  {
   "cell_type": "code",
   "execution_count": null,
   "metadata": {
    "collapsed": true
   },
   "outputs": [],
   "source": [
    "def lineContours(img):\n",
    "    ret, binary = cv2.threshold(img,127,255,0) \n",
    "    img2, contours, hierarchy = cv2.findContours(binary,cv2.RETR_TREE,cv2.CHAIN_APPROX_NONE) \n",
    "#If you pass cv2.CHAIN_APPROX_NONE, all the boundary points are stored.\n",
    "    linecontours = np.vstack(contours[2]).squeeze()\n",
    "    '''\n",
    "    if len(linecontours) % 2 != 0:\n",
    "        linecontours = linecontours[:-1]\n",
    "    contour = np.vsplit(linecontours, 2) \n",
    "    '''\n",
    "    return linecontours"
   ]
  },
  {
   "cell_type": "code",
   "execution_count": 2,
   "metadata": {
    "collapsed": true
   },
   "outputs": [],
   "source": [
    "def lineContours(img):\n",
    "    ret, binary = cv2.threshold(img,127,255,0) \n",
    "    img2, contours, hierarchy = cv2.findContours(binary,cv2.RETR_TREE,cv2.CHAIN_APPROX_NONE) \n",
    "#If you pass cv2.CHAIN_APPROX_NONE, all the boundary points are stored.\n",
    "    linecontours = np.vstack(contours[2]).squeeze()\n",
    "    '''\n",
    "    if len(linecontours) % 2 != 0:\n",
    "        linecontours = linecontours[:-1]\n",
    "    contour = np.vsplit(linecontours, 2) \n",
    "    '''\n",
    "    return linecontours"
   ]
  },
  {
   "cell_type": "code",
   "execution_count": 3,
   "metadata": {},
   "outputs": [
    {
     "name": "stdout",
     "output_type": "stream",
     "text": [
      "  0.1449771198857409   0.41184775151318076   0.0004422509788433171\n"
     ]
    }
   ],
   "source": [
    "img1 = cv2.imread('circle2-1000.jpeg',0)\n",
    "img2 = cv2.imread('circle3-1000.jpeg',0)\n",
    "img3 = cv2.imread('circle4-1000.jpeg',0)\n",
    "img4 = cv2.imread('circle6-1000.jpeg',0)\n",
    "\n",
    "ret, thresh = cv2.threshold(img1, 127, 255,0)\n",
    "ret, thresh2 = cv2.threshold(img2, 127, 255,0)\n",
    "\n",
    "cnt1 = lineContours(img1)\n",
    "cnt2 = lineContours(img2)\n",
    "cnt3 = lineContours(img3)\n",
    "cnt4 = lineContours(img4)\n",
    "\n",
    "ret1 = cv2.matchShapes(cnt1,cnt2,1,0.0)\n",
    "ret2 = cv2.matchShapes(cnt1,cnt3,1,0.0)\n",
    "ret3 = cv2.matchShapes(cnt1,cnt4,1,0.0)\n",
    "print(' ',ret1,' ',ret2,' ',ret3)\n"
   ]
  },
  {
   "cell_type": "code",
   "execution_count": null,
   "metadata": {
    "collapsed": true
   },
   "outputs": [],
   "source": []
  }
 ],
 "metadata": {
  "kernelspec": {
   "display_name": "Python 3",
   "language": "python",
   "name": "python3"
  },
  "language_info": {
   "codemirror_mode": {
    "name": "ipython",
    "version": 3
   },
   "file_extension": ".py",
   "mimetype": "text/x-python",
   "name": "python",
   "nbconvert_exporter": "python",
   "pygments_lexer": "ipython3",
   "version": "3.5.2"
  },
  "widgets": {
   "state": {},
   "version": "1.1.2"
  }
 },
 "nbformat": 4,
 "nbformat_minor": 2
}
